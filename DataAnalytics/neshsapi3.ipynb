{
 "cells": [
  {
   "cell_type": "code",
   "execution_count": null,
   "id": "e86b0cff-b1cb-430d-8d9c-c1a316de1eaf",
   "metadata": {},
   "outputs": [
    {
     "name": "stdout",
     "output_type": "stream",
     "text": [
      "   id category1 category2 category3                          recommendation\n",
      "0   1      sick     happy      calm            Take a warm shower to relax.\n",
      "1   2      sick     happy      calm  Read a good book to distract yourself.\n",
      "2   3      sick     happy      calm              Watch your favorite movie.\n",
      "3   4      sick     happy      calm        Try some herbal tea for comfort.\n",
      "4   5      sick     happy      calm                Listen to calming music.\n",
      " * Serving Flask app '__main__'\n",
      " * Debug mode: off\n"
     ]
    },
    {
     "name": "stderr",
     "output_type": "stream",
     "text": [
      "WARNING: This is a development server. Do not use it in a production deployment. Use a production WSGI server instead.\n",
      " * Running on http://127.0.0.1:5000\n",
      "Press CTRL+C to quit\n",
      "127.0.0.1 - - [22/Oct/2024 17:14:23] \"OPTIONS /predict HTTP/1.1\" 200 -\n",
      "127.0.0.1 - - [22/Oct/2024 17:14:23] \"POST /predict HTTP/1.1\" 200 -\n"
     ]
    },
    {
     "name": "stdout",
     "output_type": "stream",
     "text": [
      "Inputs: sick, sad, anxious\n"
     ]
    },
    {
     "name": "stderr",
     "output_type": "stream",
     "text": [
      "127.0.0.1 - - [22/Oct/2024 17:14:51] \"OPTIONS /predict HTTP/1.1\" 200 -\n",
      "127.0.0.1 - - [22/Oct/2024 17:14:52] \"POST /predict HTTP/1.1\" 200 -\n"
     ]
    },
    {
     "name": "stdout",
     "output_type": "stream",
     "text": [
      "Inputs: sick, sad, stressed\n"
     ]
    },
    {
     "name": "stderr",
     "output_type": "stream",
     "text": [
      "127.0.0.1 - - [22/Oct/2024 18:15:49] \"OPTIONS /predict HTTP/1.1\" 200 -\n",
      "127.0.0.1 - - [22/Oct/2024 18:15:49] \"POST /predict HTTP/1.1\" 200 -\n"
     ]
    },
    {
     "name": "stdout",
     "output_type": "stream",
     "text": [
      "Inputs: sick, sad, anxious\n"
     ]
    }
   ],
   "source": [
    "from flask import Flask, request, jsonify\n",
    "import joblib\n",
    "import pandas as pd\n",
    "from flask_cors import CORS\n",
    "import random\n",
    "\n",
    "app = Flask(__name__)\n",
    "CORS(app)\n",
    "\n",
    "# Load the trained model and label encoders\n",
    "model = joblib.load('category_model.pkl')\n",
    "le_category1 = joblib.load('le_category1.pkl')\n",
    "le_category2 = joblib.load('le_category2.pkl')\n",
    "le_category3 = joblib.load('le_category3.pkl')\n",
    "\n",
    "# Load the original dataset to fetch recommendations\n",
    "data = pd.read_csv(\"D:/feelings.csv\")\n",
    "print(data.head())  # Log the first few rows to check the data\n",
    "\n",
    "@app.route('/predict', methods=['POST'])\n",
    "def predict():\n",
    "    data_input = request.json\n",
    "    physical_feeling = data_input.get('physical_feeling')\n",
    "    emotional_feeling = data_input.get('emotional_feeling')\n",
    "    mental_feeling = data_input.get('mental_feeling')\n",
    "\n",
    "    print(f\"Inputs: {physical_feeling}, {emotional_feeling}, {mental_feeling}\")  # Log the inputs\n",
    "\n",
    "    try:\n",
    "        # Encode the inputs\n",
    "        physical_encoded = le_category1.transform([physical_feeling])[0]\n",
    "        emotional_encoded = le_category2.transform([emotional_feeling])[0]\n",
    "        mental_encoded = le_category3.transform([mental_feeling])[0]\n",
    "\n",
    "        # Make prediction\n",
    "        prediction = model.predict([[physical_encoded, emotional_encoded, mental_encoded]])\n",
    "\n",
    "        # Filter recommendations based on categories\n",
    "        recommendations = data[\n",
    "            (data['category1'] == physical_feeling) &\n",
    "            (data['category2'] == emotional_feeling) &\n",
    "            (data['category3'] == mental_feeling)\n",
    "        ]['recommendation'].tolist()\n",
    "\n",
    "        # Randomly select one recommendation\n",
    "        if recommendations:\n",
    "            random_recommendation = random.choice(recommendations)\n",
    "            return jsonify({'recommendation': random_recommendation})\n",
    "        else:\n",
    "            return jsonify({'recommendation': 'No recommendations found for these feelings.'})\n",
    "    except Exception as e:\n",
    "        print(f\"Error: {str(e)}\")  # Log the error message\n",
    "        return jsonify({'error': str(e)}), 400\n",
    "\n",
    "if __name__ == '__main__':\n",
    "    app.run()\n"
   ]
  },
  {
   "cell_type": "code",
   "execution_count": null,
   "id": "3b9b26bf-704f-487a-8959-5a2dc6b01f39",
   "metadata": {},
   "outputs": [],
   "source": []
  },
  {
   "cell_type": "code",
   "execution_count": null,
   "id": "f6ea8dbe-d22e-48e4-baa9-22486cfbce7a",
   "metadata": {},
   "outputs": [],
   "source": []
  }
 ],
 "metadata": {
  "kernelspec": {
   "display_name": "Python 3 (ipykernel)",
   "language": "python",
   "name": "python3"
  },
  "language_info": {
   "codemirror_mode": {
    "name": "ipython",
    "version": 3
   },
   "file_extension": ".py",
   "mimetype": "text/x-python",
   "name": "python",
   "nbconvert_exporter": "python",
   "pygments_lexer": "ipython3",
   "version": "3.12.5"
  }
 },
 "nbformat": 4,
 "nbformat_minor": 5
}
