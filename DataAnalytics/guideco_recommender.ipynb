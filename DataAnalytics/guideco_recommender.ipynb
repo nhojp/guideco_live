{
 "cells": [
  {
   "cell_type": "code",
   "execution_count": 1,
   "id": "c355818f-6d8d-480f-95fe-9a2be0aa65fd",
   "metadata": {},
   "outputs": [],
   "source": [
    "import pandas as pd #para magamit pang access ng mga csv files etc\n",
    "from sklearn.ensemble import RandomForestClassifier\n",
    "from sklearn.preprocessing import LabelEncoder\n",
    "from imblearn.over_sampling import SMOTE\n",
    "from sklearn.model_selection import train_test_split\n",
    "import joblib"
   ]
  },
  {
   "cell_type": "code",
   "execution_count": 2,
   "id": "ddbe24de-12ed-4a24-8663-24f8588ff537",
   "metadata": {},
   "outputs": [],
   "source": [
    "# Load the dataset\n",
    "data = pd.read_csv(\"D:/feelings.csv\")\n",
    "df = pd.DataFrame(data)"
   ]
  },
  {
   "cell_type": "code",
   "execution_count": 3,
   "id": "62c17479-6513-4dae-9ad6-80f5efc062a4",
   "metadata": {},
   "outputs": [
    {
     "data": {
      "text/html": [
       "<div>\n",
       "<style scoped>\n",
       "    .dataframe tbody tr th:only-of-type {\n",
       "        vertical-align: middle;\n",
       "    }\n",
       "\n",
       "    .dataframe tbody tr th {\n",
       "        vertical-align: top;\n",
       "    }\n",
       "\n",
       "    .dataframe thead th {\n",
       "        text-align: right;\n",
       "    }\n",
       "</style>\n",
       "<table border=\"1\" class=\"dataframe\">\n",
       "  <thead>\n",
       "    <tr style=\"text-align: right;\">\n",
       "      <th></th>\n",
       "      <th>id</th>\n",
       "      <th>category1</th>\n",
       "      <th>category2</th>\n",
       "      <th>category3</th>\n",
       "      <th>recommendation</th>\n",
       "    </tr>\n",
       "  </thead>\n",
       "  <tbody>\n",
       "    <tr>\n",
       "      <th>0</th>\n",
       "      <td>1</td>\n",
       "      <td>sick</td>\n",
       "      <td>happy</td>\n",
       "      <td>calm</td>\n",
       "      <td>Take a warm shower to relax.</td>\n",
       "    </tr>\n",
       "    <tr>\n",
       "      <th>1</th>\n",
       "      <td>2</td>\n",
       "      <td>sick</td>\n",
       "      <td>happy</td>\n",
       "      <td>calm</td>\n",
       "      <td>Read a good book to distract yourself.</td>\n",
       "    </tr>\n",
       "    <tr>\n",
       "      <th>2</th>\n",
       "      <td>3</td>\n",
       "      <td>sick</td>\n",
       "      <td>happy</td>\n",
       "      <td>calm</td>\n",
       "      <td>Watch your favorite movie.</td>\n",
       "    </tr>\n",
       "    <tr>\n",
       "      <th>3</th>\n",
       "      <td>4</td>\n",
       "      <td>sick</td>\n",
       "      <td>happy</td>\n",
       "      <td>calm</td>\n",
       "      <td>Try some herbal tea for comfort.</td>\n",
       "    </tr>\n",
       "    <tr>\n",
       "      <th>4</th>\n",
       "      <td>5</td>\n",
       "      <td>sick</td>\n",
       "      <td>happy</td>\n",
       "      <td>calm</td>\n",
       "      <td>Listen to calming music.</td>\n",
       "    </tr>\n",
       "  </tbody>\n",
       "</table>\n",
       "</div>"
      ],
      "text/plain": [
       "   id category1 category2 category3                          recommendation\n",
       "0   1      sick     happy      calm            Take a warm shower to relax.\n",
       "1   2      sick     happy      calm  Read a good book to distract yourself.\n",
       "2   3      sick     happy      calm              Watch your favorite movie.\n",
       "3   4      sick     happy      calm        Try some herbal tea for comfort.\n",
       "4   5      sick     happy      calm                Listen to calming music."
      ]
     },
     "execution_count": 3,
     "metadata": {},
     "output_type": "execute_result"
    }
   ],
   "source": [
    "df.head(5) #silip sa data"
   ]
  },
  {
   "cell_type": "code",
   "execution_count": 4,
   "id": "9290fe2a-41a9-4b58-a17d-2ff2cab11f8e",
   "metadata": {},
   "outputs": [
    {
     "data": {
      "text/html": [
       "<div>\n",
       "<style scoped>\n",
       "    .dataframe tbody tr th:only-of-type {\n",
       "        vertical-align: middle;\n",
       "    }\n",
       "\n",
       "    .dataframe tbody tr th {\n",
       "        vertical-align: top;\n",
       "    }\n",
       "\n",
       "    .dataframe thead th {\n",
       "        text-align: right;\n",
       "    }\n",
       "</style>\n",
       "<table border=\"1\" class=\"dataframe\">\n",
       "  <thead>\n",
       "    <tr style=\"text-align: right;\">\n",
       "      <th></th>\n",
       "      <th>category1</th>\n",
       "      <th>category2</th>\n",
       "      <th>category3</th>\n",
       "      <th>recommendation</th>\n",
       "    </tr>\n",
       "  </thead>\n",
       "  <tbody>\n",
       "    <tr>\n",
       "      <th>0</th>\n",
       "      <td>sick</td>\n",
       "      <td>happy</td>\n",
       "      <td>calm</td>\n",
       "      <td>Take a warm shower to relax.</td>\n",
       "    </tr>\n",
       "    <tr>\n",
       "      <th>1</th>\n",
       "      <td>sick</td>\n",
       "      <td>happy</td>\n",
       "      <td>calm</td>\n",
       "      <td>Read a good book to distract yourself.</td>\n",
       "    </tr>\n",
       "    <tr>\n",
       "      <th>2</th>\n",
       "      <td>sick</td>\n",
       "      <td>happy</td>\n",
       "      <td>calm</td>\n",
       "      <td>Watch your favorite movie.</td>\n",
       "    </tr>\n",
       "    <tr>\n",
       "      <th>3</th>\n",
       "      <td>sick</td>\n",
       "      <td>happy</td>\n",
       "      <td>calm</td>\n",
       "      <td>Try some herbal tea for comfort.</td>\n",
       "    </tr>\n",
       "    <tr>\n",
       "      <th>4</th>\n",
       "      <td>sick</td>\n",
       "      <td>happy</td>\n",
       "      <td>calm</td>\n",
       "      <td>Listen to calming music.</td>\n",
       "    </tr>\n",
       "  </tbody>\n",
       "</table>\n",
       "</div>"
      ],
      "text/plain": [
       "  category1 category2 category3                          recommendation\n",
       "0      sick     happy      calm            Take a warm shower to relax.\n",
       "1      sick     happy      calm  Read a good book to distract yourself.\n",
       "2      sick     happy      calm              Watch your favorite movie.\n",
       "3      sick     happy      calm        Try some herbal tea for comfort.\n",
       "4      sick     happy      calm                Listen to calming music."
      ]
     },
     "execution_count": 4,
     "metadata": {},
     "output_type": "execute_result"
    }
   ],
   "source": [
    "df = df.drop([\"id\"],axis=1) #dinrop unnecessary column para mas maluwag ung pagload sa data\n",
    "\n",
    "df.head(5) #checking kung nawala ba ung inalis natin na column"
   ]
  },
  {
   "cell_type": "code",
   "execution_count": 5,
   "id": "91f610e4-9578-4701-9aed-715568c39ab0",
   "metadata": {},
   "outputs": [
    {
     "name": "stdout",
     "output_type": "stream",
     "text": [
      "Before dropping duplicates (270, 4)\n",
      "After dropping duplicates (270, 4)\n"
     ]
    }
   ],
   "source": [
    "print(\"Before dropping duplicates\",df.shape) #para mabilang ung number of column and rows \n",
    "df = df.drop_duplicates() \n",
    "print(\"After dropping duplicates\",df.shape)"
   ]
  },
  {
   "cell_type": "code",
   "execution_count": 6,
   "id": "964adc79-4156-4308-b1b8-837d51ea4927",
   "metadata": {},
   "outputs": [
    {
     "data": {
      "text/plain": [
       "category1         0\n",
       "category2         0\n",
       "category3         0\n",
       "recommendation    0\n",
       "dtype: int64"
      ]
     },
     "execution_count": 6,
     "metadata": {},
     "output_type": "execute_result"
    }
   ],
   "source": [
    "df.isna().sum() #chineck lang baka merong mga null values sa data natin"
   ]
  },
  {
   "cell_type": "code",
   "execution_count": 7,
   "id": "cbf30de1-604c-436d-953f-c34bd8bced5b",
   "metadata": {},
   "outputs": [],
   "source": [
    "expanded_df = df.copy()"
   ]
  },
  {
   "cell_type": "code",
   "execution_count": 8,
   "id": "a8e85978-7951-489e-b6c0-36bdf6e47cb8",
   "metadata": {},
   "outputs": [],
   "source": [
    "# Encode each category\n",
    "le_category1 = LabelEncoder()\n",
    "le_category2 = LabelEncoder()\n",
    "le_category3 = LabelEncoder()\n",
    "\n",
    "expanded_df['category1_encoded'] = le_category1.fit_transform(expanded_df['category1'])\n",
    "expanded_df['category2_encoded'] = le_category2.fit_transform(expanded_df['category2'])\n",
    "expanded_df['category3_encoded'] = le_category3.fit_transform(expanded_df['category3'])"
   ]
  },
  {
   "cell_type": "code",
   "execution_count": 9,
   "id": "8c9de0d1-220e-4fb0-a465-adc65175bcf5",
   "metadata": {},
   "outputs": [
    {
     "data": {
      "text/html": [
       "<div>\n",
       "<style scoped>\n",
       "    .dataframe tbody tr th:only-of-type {\n",
       "        vertical-align: middle;\n",
       "    }\n",
       "\n",
       "    .dataframe tbody tr th {\n",
       "        vertical-align: top;\n",
       "    }\n",
       "\n",
       "    .dataframe thead th {\n",
       "        text-align: right;\n",
       "    }\n",
       "</style>\n",
       "<table border=\"1\" class=\"dataframe\">\n",
       "  <thead>\n",
       "    <tr style=\"text-align: right;\">\n",
       "      <th></th>\n",
       "      <th>category1</th>\n",
       "      <th>category2</th>\n",
       "      <th>category3</th>\n",
       "      <th>recommendation</th>\n",
       "      <th>category1_encoded</th>\n",
       "      <th>category2_encoded</th>\n",
       "      <th>category3_encoded</th>\n",
       "    </tr>\n",
       "  </thead>\n",
       "  <tbody>\n",
       "    <tr>\n",
       "      <th>0</th>\n",
       "      <td>sick</td>\n",
       "      <td>happy</td>\n",
       "      <td>calm</td>\n",
       "      <td>Take a warm shower to relax.</td>\n",
       "      <td>1</td>\n",
       "      <td>1</td>\n",
       "      <td>1</td>\n",
       "    </tr>\n",
       "    <tr>\n",
       "      <th>1</th>\n",
       "      <td>sick</td>\n",
       "      <td>happy</td>\n",
       "      <td>calm</td>\n",
       "      <td>Read a good book to distract yourself.</td>\n",
       "      <td>1</td>\n",
       "      <td>1</td>\n",
       "      <td>1</td>\n",
       "    </tr>\n",
       "    <tr>\n",
       "      <th>2</th>\n",
       "      <td>sick</td>\n",
       "      <td>happy</td>\n",
       "      <td>calm</td>\n",
       "      <td>Watch your favorite movie.</td>\n",
       "      <td>1</td>\n",
       "      <td>1</td>\n",
       "      <td>1</td>\n",
       "    </tr>\n",
       "    <tr>\n",
       "      <th>3</th>\n",
       "      <td>sick</td>\n",
       "      <td>happy</td>\n",
       "      <td>calm</td>\n",
       "      <td>Try some herbal tea for comfort.</td>\n",
       "      <td>1</td>\n",
       "      <td>1</td>\n",
       "      <td>1</td>\n",
       "    </tr>\n",
       "    <tr>\n",
       "      <th>4</th>\n",
       "      <td>sick</td>\n",
       "      <td>happy</td>\n",
       "      <td>calm</td>\n",
       "      <td>Listen to calming music.</td>\n",
       "      <td>1</td>\n",
       "      <td>1</td>\n",
       "      <td>1</td>\n",
       "    </tr>\n",
       "  </tbody>\n",
       "</table>\n",
       "</div>"
      ],
      "text/plain": [
       "  category1 category2 category3                          recommendation  \\\n",
       "0      sick     happy      calm            Take a warm shower to relax.   \n",
       "1      sick     happy      calm  Read a good book to distract yourself.   \n",
       "2      sick     happy      calm              Watch your favorite movie.   \n",
       "3      sick     happy      calm        Try some herbal tea for comfort.   \n",
       "4      sick     happy      calm                Listen to calming music.   \n",
       "\n",
       "   category1_encoded  category2_encoded  category3_encoded  \n",
       "0                  1                  1                  1  \n",
       "1                  1                  1                  1  \n",
       "2                  1                  1                  1  \n",
       "3                  1                  1                  1  \n",
       "4                  1                  1                  1  "
      ]
     },
     "execution_count": 9,
     "metadata": {},
     "output_type": "execute_result"
    }
   ],
   "source": [
    "expanded_df.head(5)"
   ]
  },
  {
   "cell_type": "code",
   "execution_count": 10,
   "id": "781f5bb8-f47c-49fb-bbc1-cf0c08dacdf5",
   "metadata": {},
   "outputs": [],
   "source": [
    "# Prepare features and target\n",
    "X = expanded_df[['category1_encoded', 'category2_encoded', 'category3_encoded']].values\n",
    "y = expanded_df['recommendation']"
   ]
  },
  {
   "cell_type": "code",
   "execution_count": 11,
   "id": "50d2116d-7dd0-46aa-a864-a5e3ae1f7f3c",
   "metadata": {},
   "outputs": [],
   "source": [
    "# Train-test split\n",
    "X_train, X_test, y_train, y_test = train_test_split(X, y, test_size=0.2)\n",
    "\n",
    "from sklearn.metrics import accuracy_score,confusion_matrix\n",
    "\n",
    "def evaluate_model(model):\n",
    "    print(\"TRAIN ACCURACY: \", accuracy_score(y_train,model.predict(X_train)))\n",
    "    print(\"TEST ACCURACY: \", accuracy_score(y_test,model.predict(X_test)))\n",
    "    print(confusion_matrix(y_test,model.predict(X_test)))"
   ]
  },
  {
   "cell_type": "code",
   "execution_count": 12,
   "id": "c3a39bea-c8bf-49c5-a8a1-dfaf59a0562a",
   "metadata": {},
   "outputs": [
    {
     "name": "stdout",
     "output_type": "stream",
     "text": [
      "TRAIN ACCURACY:  0.125\n",
      "TEST ACCURACY:  0.0\n",
      "[[0 0 0 ... 0 0 0]\n",
      " [0 0 0 ... 0 0 0]\n",
      " [0 0 0 ... 0 0 0]\n",
      " ...\n",
      " [0 0 0 ... 0 0 0]\n",
      " [0 0 0 ... 0 0 0]\n",
      " [0 0 0 ... 0 0 0]]\n"
     ]
    }
   ],
   "source": [
    "model = RandomForestClassifier(max_depth=100,n_estimators=1000);\n",
    "model.fit(X_train,y_train);\n",
    "evaluate_model(model)"
   ]
  },
  {
   "cell_type": "code",
   "execution_count": 13,
   "id": "959ea000-62d7-4e8b-8b42-555b1f1c8109",
   "metadata": {},
   "outputs": [
    {
     "data": {
      "text/plain": [
       "['le_category3.pkl']"
      ]
     },
     "execution_count": 13,
     "metadata": {},
     "output_type": "execute_result"
    }
   ],
   "source": [
    "# Save the model and encoders\n",
    "joblib.dump(model, 'category_model.pkl')\n",
    "joblib.dump(le_category1, 'le_category1.pkl')\n",
    "joblib.dump(le_category2, 'le_category2.pkl')\n",
    "joblib.dump(le_category3, 'le_category3.pkl')"
   ]
  }
 ],
 "metadata": {
  "kernelspec": {
   "display_name": "Python 3 (ipykernel)",
   "language": "python",
   "name": "python3"
  },
  "language_info": {
   "codemirror_mode": {
    "name": "ipython",
    "version": 3
   },
   "file_extension": ".py",
   "mimetype": "text/x-python",
   "name": "python",
   "nbconvert_exporter": "python",
   "pygments_lexer": "ipython3",
   "version": "3.12.5"
  }
 },
 "nbformat": 4,
 "nbformat_minor": 5
}
